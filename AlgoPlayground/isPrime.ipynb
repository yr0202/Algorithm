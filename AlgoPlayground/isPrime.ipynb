{
 "cells": [
  {
   "cell_type": "markdown",
   "id": "b33a6697",
   "metadata": {},
   "source": [
    "## 소수 판별 알고리즘"
   ]
  },
  {
   "cell_type": "markdown",
   "id": "ec30bfc9",
   "metadata": {},
   "source": [
    "### ☝️정수 한개의 소수 판별\n",
    "#### 1️⃣첫번째 방법 - 2부터 (n-1)까지 모든 수를 확인\n",
    "- 2부터 (n-1)까지의 모든 자연수에 대하여 연산을 수행해야 함\n",
    "    - 모든 수를 하나씩 확인\n",
    "- 시간 복잡도 : O(N)\n",
    "- 단점 : n의 값이 커지면 커질수록 시간이 오래걸림"
   ]
  },
  {
   "cell_type": "code",
   "execution_count": 15,
   "id": "0842fcef",
   "metadata": {},
   "outputs": [
    {
     "name": "stdout",
     "output_type": "stream",
     "text": [
      "False\n",
      "False\n"
     ]
    }
   ],
   "source": [
    "def is_prime(x):\n",
    "    for i in range(2, x):\n",
    "        if x % i == 0:\n",
    "            return False\n",
    "    return True\n",
    "\n",
    "print(is_prime(51))\n",
    "print(is_prime(8))"
   ]
  },
  {
   "cell_type": "markdown",
   "id": "109b954f",
   "metadata": {},
   "source": [
    "#### 2️⃣두번째 방법 - 약수의 성질 이용하기\n",
    "- 모든 약수가 가운데 약수를 기준으로 곱셈 연산에 대해 대칭을 이룸\n",
    "    - ex) 16의 약수 : 1 2 4 8 16\n",
    "- 따라서 특정한 자연수의 모든 약수를 찾을 때 가운데 약수(제곱근)까지만 확인하면 된다\n",
    "    - 예를 들어, 16이 2로 나누어 떨어진다는 것은 8로도 나누어 떨어진다는 것을 의미\n",
    "- 시간복잡도 : O(N^0.5)"
   ]
  },
  {
   "cell_type": "code",
   "execution_count": 16,
   "id": "e374f34f",
   "metadata": {},
   "outputs": [
    {
     "name": "stdout",
     "output_type": "stream",
     "text": [
      "True\n",
      "True\n"
     ]
    }
   ],
   "source": [
    "import math\n",
    "\n",
    "def is_prime(x):\n",
    "    for i in range(2, int(math.sqrt(x)) + 1):\n",
    "        if x % i == 0:\n",
    "            return False\n",
    "    return True\n",
    "\n",
    "print(is_prime(53)) # 10억\n",
    "print(is_prime(7))"
   ]
  },
  {
   "cell_type": "markdown",
   "id": "488e930f",
   "metadata": {},
   "source": [
    "### ✌️ 다수의 소수 판별 - 에라토스테네스의 체 알고리즘\n",
    "- 특정한 수의 범위 안에 존재하는 모든 소수를 찾기\n",
    "- N보다 작거나 같은 모든 소수를 찾을 때 사용\n",
    "\n",
    "- 동작과정\n",
    "    1. 2부터 N까지의 모든 자연수를 나열한다\n",
    "    2. 남은 수 중에서 아직 처리하지 않은 가장 작은수 i를 찾는다\n",
    "    3. 남은 수 중에서 i의 배수를 모두 제거한다(i는 소수이므로 제거하지 않는다)\n",
    "    4. 더 이상 반복할 수 없을 때까지 2번과 3번의 과정을 반복한다\n",
    "- 시간 복잡도 : O(NloglogN)\n",
    "- 단점 : 메모리가 많이 필요함"
   ]
  },
  {
   "cell_type": "code",
   "execution_count": null,
   "id": "17a12d6d",
   "metadata": {},
   "outputs": [
    {
     "name": "stdout",
     "output_type": "stream",
     "text": [
      "2 3 5 7 11 13 17 19 23 29 31 37 41 43 47 53 59 61 67 71 73 79 83 89 "
     ]
    }
   ],
   "source": [
    "import math\n",
    "\n",
    "n = 89\n",
    "\n",
    "# True(소수)로 초기화\n",
    "arr = [True for i in range(n+1)]\n",
    "\n",
    "# 2부터 모든 수 확인\n",
    "for i in range(2, int(math.sqrt(n)) + 1):\n",
    "    if arr[i] == True:\n",
    "        j = 2\n",
    "        while i * j <= n:\n",
    "            arr[i*j] = False\n",
    "            j += 1\n",
    "\n",
    "for i in range(2, n + 1):\n",
    "    if arr[i]:\n",
    "        print(i, end=' ')"
   ]
  }
 ],
 "metadata": {
  "kernelspec": {
   "display_name": "base",
   "language": "python",
   "name": "python3"
  },
  "language_info": {
   "codemirror_mode": {
    "name": "ipython",
    "version": 3
   },
   "file_extension": ".py",
   "mimetype": "text/x-python",
   "name": "python",
   "nbconvert_exporter": "python",
   "pygments_lexer": "ipython3",
   "version": "3.12.4"
  }
 },
 "nbformat": 4,
 "nbformat_minor": 5
}
