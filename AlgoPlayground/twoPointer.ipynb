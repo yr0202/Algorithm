{
 "cells": [
  {
   "cell_type": "markdown",
   "id": "55560f64",
   "metadata": {},
   "source": [
    "## 투 포인터(Two Pointers)\n",
    "- 리스트에 순차적으로 접근해야 할 때 두 개의 점의 위치를 기록하면서 처리하는 알고리즘\n",
    "- 리스트에 담긴 데이터에 순차적으로 접근해야 할 때는 **시작점**과 **끝점** 2개의 점으로 접근할 데이터의 범위를 표현 할 수 있다\n",
    "\n",
    "### 💡투 포인터로 해결 가능한 문제 유형\n",
    "#### 1️⃣특정한 합을 가지는 부분 연속 수열 찾기\n",
    "- 부분 연속 수열 : 연속된 일부분의 데이터만 가지는 수열\n",
    "- 시간 복잡도 : O(N) - 투포인터 사용 | O(N^2) - 완전 탐색\n",
    "- 동작 과정:\n",
    "    1. 시작점(start)과 끝점(end)이 "
   ]
  },
  {
   "cell_type": "code",
   "execution_count": null,
   "id": "0503d787",
   "metadata": {},
   "outputs": [],
   "source": []
  }
 ],
 "metadata": {
  "language_info": {
   "name": "python"
  }
 },
 "nbformat": 4,
 "nbformat_minor": 5
}
